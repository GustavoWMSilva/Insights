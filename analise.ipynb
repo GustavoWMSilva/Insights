{
 "cells": [
  {
   "cell_type": "markdown",
   "metadata": {},
   "source": [
    "# Python Insights - Analisando Dados com Python\n",
    "\n",
    "### Case - Cancelamento de Clientes\n",
    "\n",
    "Você foi contratado por uma empresa com mais de 800 mil clientes para um projeto de Dados. Recentemente a empresa percebeu que da sua base total de clientes, a maioria são clientes inativos, ou seja, que já cancelaram o serviço.\n",
    "\n",
    "Precisando melhorar seus resultados ela quer conseguir entender os principais motivos desses cancelamentos e quais as ações mais eficientes para reduzir esse número."
   ]
  },
  {
   "cell_type": "code",
   "execution_count": null,
   "metadata": {},
   "outputs": [],
   "source": [
    "# 1 - Pegar os dados\n",
    "\n",
    "# 2 - Analisar os dados\n",
    "# 3 - Tratar os dados\n",
    "# 4 - Analise de cancelamentos\n",
    "# 5 - Analise da causa do cancelamento\n",
    "# !pip install pandas numpy openpyxl nbformat ipykernel plotly\n"
   ]
  },
  {
   "cell_type": "code",
   "execution_count": null,
   "metadata": {},
   "outputs": [],
   "source": [
    "import pandas as pd\n",
    "\n",
    "# 1 - Pegar os dados\n",
    "tabela = pd.read_csv(\"cancelamentos.csv\")\n",
    "\n",
    "# 2 - Analisar os dados\n",
    "# colunas sem importancia para nós - Que só atrapalha\n",
    "tabela = tabela.drop(columns=\"CustomerID\")\n",
    "# \n",
    "display(tabela)"
   ]
  },
  {
   "cell_type": "code",
   "execution_count": null,
   "metadata": {},
   "outputs": [],
   "source": [
    "# 3 - Tratar os dados\n",
    "# valores vazios (erro de preenchimento) _ As linhas excluidas nesse caso nao atrapalham nosso resultado no todo\n",
    "display(tabela.info()) \n",
    "tabela = tabela.dropna()\n",
    "display(tabela.info()) "
   ]
  },
  {
   "cell_type": "code",
   "execution_count": null,
   "metadata": {},
   "outputs": [],
   "source": [
    "# 4 - Analise de cancelamentos\n",
    "display(tabela[\"cancelou\"].value_counts(normalize=True).map(\"{:.1%}\".format))"
   ]
  },
  {
   "cell_type": "code",
   "execution_count": null,
   "metadata": {},
   "outputs": [],
   "source": [
    "# 5 - Analise da causa do cancelamento\n",
    "import plotly.express as px\n",
    "\n",
    "\n",
    "for coluna in tabela:\n",
    "    # cria o grafico\n",
    "    grafico = px.histogram(tabela, x=coluna, color=\"cancelou\")\n",
    "    # exibe o grafico\n",
    "    grafico.show()"
   ]
  },
  {
   "cell_type": "code",
   "execution_count": null,
   "metadata": {},
   "outputs": [],
   "source": [
    "# Analisar informacoes relevantes identificando padroes\n",
    "\n",
    "#  se um cliente ligar mais de 4 vezes para call center, ele cancela\n",
    "    # criar um processo que se um cliente ligou 3 vezes, a gente faz de td pra resolver\n",
    "    \n",
    "# se ym cliente atrasa o pagamento mais de 20 dias, ele cancela\n",
    "    #  criar um processo para nao deixar o cliente atrasa o pagamento mais de 20 dias\n",
    "\n",
    "# todos os clientes do contrato mensal cancelam\n",
    "\n",
    "tabela = tabela[tabela[\"duracao_contrato\"]!=\"Monthly\"]# sem duracao do contrato mensal\n",
    "tabela = tabela[tabela[\"ligacoes_callcenter\"]<=4] # sem ligacao da call center acima de 4 vezes\n",
    "tabela = tabela[tabela[\"dias_atraso\"]<=20] # sem atraso de pagamento maior do que 20 dias\n",
    "\n",
    "\n",
    "display(tabela[\"cancelou\"].value_counts(normalize=True).map(\"{:.1%}\".format))"
   ]
  }
 ],
 "metadata": {
  "kernelspec": {
   "display_name": "base",
   "language": "python",
   "name": "python3"
  },
  "language_info": {
   "codemirror_mode": {
    "name": "ipython",
    "version": 3
   },
   "file_extension": ".py",
   "mimetype": "text/x-python",
   "name": "python",
   "nbconvert_exporter": "python",
   "pygments_lexer": "ipython3",
   "version": "3.11.7"
  },
  "orig_nbformat": 4
 },
 "nbformat": 4,
 "nbformat_minor": 2
}
